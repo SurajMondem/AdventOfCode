{
 "cells": [
  {
   "cell_type": "markdown",
   "metadata": {},
   "source": [
    "### Part 1"
   ]
  },
  {
   "cell_type": "code",
   "execution_count": 18,
   "metadata": {},
   "outputs": [],
   "source": [
    "with open('./Assets/2.txt') as f:\n",
    "    contents = f.read()\n",
    "\n",
    "contents = contents.split(\"\\n\")\n",
    "\n",
    "input = []\n",
    "for content in contents:\n",
    "  input.append([i for i in content.split(' ')])\n",
    "\n",
    "# print(input)\n"
   ]
  },
  {
   "cell_type": "code",
   "execution_count": 13,
   "metadata": {},
   "outputs": [],
   "source": [
    "opponent_dict = {'A': 1, 'B': 2, 'C': 3}\n",
    "player_dict = {'X': 1, 'Y': 2, 'Z': 3}\n",
    "\n",
    "def gameResult(opp, pla):\n",
    "  if(opponent_dict[opp] == player_dict[pla]):\n",
    "    return 3\n",
    "  elif ((opponent_dict[opp] == 1 and player_dict[pla] == 2) or\n",
    "         (opponent_dict[opp] == 2 and player_dict[pla] == 3) or \n",
    "         (opponent_dict[opp] == 3 and player_dict[pla] == 1)\n",
    "  ):\n",
    "    return 6\n",
    "  else:\n",
    "    return 0\n",
    "\n",
    "def yourChoice(pla):\n",
    "  return player_dict[pla]"
   ]
  },
  {
   "cell_type": "code",
   "execution_count": 14,
   "metadata": {},
   "outputs": [
    {
     "name": "stdout",
     "output_type": "stream",
     "text": [
      "11475\n"
     ]
    }
   ],
   "source": [
    "total_score = 0\n",
    "for game in input:\n",
    "  total_score += yourChoice(game[1]) + gameResult(game[0], game[1])\n",
    "\n",
    "\n",
    "print(total_score)"
   ]
  },
  {
   "cell_type": "markdown",
   "metadata": {},
   "source": [
    "### Part 2"
   ]
  },
  {
   "cell_type": "code",
   "execution_count": 19,
   "metadata": {},
   "outputs": [],
   "source": [
    "lose_dict = {'A': 3, 'B': 1, 'C': 2}\n",
    "win_dict = {'A': 2, 'B': 3, 'C': 1}\n",
    "draw_dict = {'A': 1, 'B': 2, 'C': 3}\n",
    "\n",
    "def new_gameResult(opp, pla):\n",
    "  if pla == 'X':\n",
    "    return lose_dict[opp] + 0\n",
    "  elif pla == 'Y':\n",
    "    return draw_dict[opp] + 3\n",
    "  else:\n",
    "    return win_dict[opp] + 6\n"
   ]
  },
  {
   "cell_type": "code",
   "execution_count": 20,
   "metadata": {},
   "outputs": [
    {
     "name": "stdout",
     "output_type": "stream",
     "text": [
      "16862\n"
     ]
    }
   ],
   "source": [
    "total_score = 0\n",
    "for game in input:\n",
    "  total_score += new_gameResult(game[0], game[1])\n",
    "\n",
    "\n",
    "print(total_score)\n"
   ]
  }
 ],
 "metadata": {
  "kernelspec": {
   "display_name": "Python 3.9.13 64-bit",
   "language": "python",
   "name": "python3"
  },
  "language_info": {
   "codemirror_mode": {
    "name": "ipython",
    "version": 3
   },
   "file_extension": ".py",
   "mimetype": "text/x-python",
   "name": "python",
   "nbconvert_exporter": "python",
   "pygments_lexer": "ipython3",
   "version": "3.9.13"
  },
  "orig_nbformat": 4,
  "vscode": {
   "interpreter": {
    "hash": "b0fa6594d8f4cbf19f97940f81e996739fb7646882a419484c72d19e05852a7e"
   }
  }
 },
 "nbformat": 4,
 "nbformat_minor": 2
}
