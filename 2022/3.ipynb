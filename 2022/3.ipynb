{
 "cells": [
  {
   "cell_type": "code",
   "execution_count": 10,
   "metadata": {},
   "outputs": [
    {
     "name": "stdout",
     "output_type": "stream",
     "text": [
      "[['ZTmtZvZLTFNLMQMNRvZ', 'ncdcHwcScJvcdHnVfwV'], ['zqjqrzqjCqrjtqWhqChqrz', 'nhcfdfVnVSVgcffcgJcSgd'], ['rtDGpzjjqjlrGsWqBW', 'FRsbTPFQMTbRNRFmbs'], ['FFlnlnVlmQqcBVhB', 'RrSrGSwVdRJbztSt'], ['NPPNsffWf', 'NztRZSJNG'], ['WpgpTTHDpgTDDpMLPGgMHs', 'lmBmmHcBQnFmcqhmnjlqQm'], ['VlVNLlPQ', 'htnDRPnP'], ['QgqTffzZqgvgzWmqqZmG', 'cDthtRFvnnFnhJtJJDDt'], ['WGTBzSqBQTQmZBW', 'HswpNbswLbSNCNl'], ['PFzFQDdLjMzzQDhnD', 'NmwZmqwRsmRRmMVNM'], ['GtSbbtlttvvtBvtH', 'BmqqNqVVwsVgCmRw'], ['brlvctHfrlrqvGvcT', 'pjDdFnLDhdfjLhQpn'], ['fTqzgFrcmzTrTNgMzFzTrg', 'tbMtVMVPSLVbvSStRttPVV'], ['lsHnlQhplQpsHhlDJss', 'wNwZPZZVNwvnSZSVvVS'], ['BJpsGWhWQQHdGHlpWp', 'fgrmqgNBmTTBqzTrzr'], ['PLPPrDNHDBnrWNB', 'mjDmjbqqgzjgjQC'], ['GJpFwpvFFsJpwvwwGwJZJRpt', 'zdQSSZTmCjTQmTSQjjZSggQQ'], ['ffwGGtJGCf', 'LcNMNNfNLW'], ['nlTzllGwlQHHGMS', 'rrhQLcvbcghgcvL'], ['fFNpttBRFFRNtJJnfNWmq', 'bhhZrZrcjgpvLrvrvcvbr'], ['JBftFFsVRWtNWRsmWtRfft', 'GHGPDDCnTDHSCwzwVnwGSw'], ['LsrZLbLm', 'PSTZtPcc'], ['zpnpljpdwhRpfNLl', 'PWPtTPcnMWPcctTV'], ['qlhNNjldqdpgqdfhjpphd', 'sgmmrDBBJJQgHrmDHLQJb'], ['ndDrsBbpqsp', 'HCjzVBCHjMj'], ['LWFcQFQt', 'VVdcCMHC'], ['RLthwTWLTSLwTllRLLlLNl', 'PpPGfrGnqDdGqsZqsZsZhb'], ['jHnJLJrcBbrRHJpnLBBjdHbj', 'fgvGwstwWwdsWWshfhFzFfhv'], ['PZDQMNTMQ', 'wtgvGTGhf'], ['lqlPPQZQVSQCPSCPDm', 'LppjqRqHngLHjRgLnL'], ['MfQrhdzNMfMPsNN', 'mPmqPLCLCVLBnbP'], ['WVtcVvJJVjvFZZ', 'mgGjnjLBjmnnHB'], ['FFtcZRpWJcSDT', 'wlVMhMDwrrDzM'], ['bSMbrQGZwwqbrbGMdTQGMwQd', 'fFBLDLHLHssDgsHHBJDsFfwL'], ['lpPPCccvVPvccPzcW', 'LDJFJBsBzJJHsqHjg'], ['tnqlPlVlNv', 'NZZSSrGGZb'], ['NlBBBBBwmwcMgLwLVVLLLsc', 'HdnMDdbHJCbdvJbPdDDJHvn'], ['ZRWQWSfGhtSjqZhffZhhRj', 'tdvPFHvCJbFdCFFDdHJdPb'], ['fpqGhQWWZRhfqRSqrpG', 'llLcVLmscgrLwBmgCzN'], ['wHHHwDNCzZwzZfpzwsswzfz', 'vnvnMDMgMhMGGFGRVdMnvcF'], ['mLtttqTPBtSJTSBQWlm', 'cMvVdclnvhFggdGhRdn'], ['QBLPSLQQWmLtTBtBSj', 'ZfsbwbHzpjGzHfpzzw'], ['zDPBqBPqwzzsqlTzzPzq', 'jttNbCPJVtPCbrvjvCZP'], ['MFhMhGfFfGpWWpHhFfRpH', 'jVNbDbJjVMjrVvVNtMtbt'], ['gfRSmpggSFRgfGRphFGgfg', 'BSBTqzSsdlTLqdsnsDBqLw'], ['QTTdWZZZT', 'rhCZrjhVt'], ['SBJJNRRvvRpwwspNSp', 'TPjCMVhhtCjGThjBjB'], ['fJJpvRRwNRSwvzRzRvzSgSRN', 'qFTFDbFmqncQTbdFfnbDQnLW'], ['wSjwwjWhbhhjWj', 'dqSVpqSndvMdmM'], ['NTvPBrZgPPHDFrFHGvZH', 'RBqVBpCQVRRdmpRppdqM'], ['TgDHZPsNT', 'Wbbwsjtvw'], ['HVRPRwJVppQ', 'NpGmvMvmqqq'], ['WcttbWsWsdDdbFDSSWclZ', 'GvFLMvfvjfzNvLGzLmfqv'], ['tglcmSldWl', 'BQBThRQBhg'], ['LDGGfPFLGsfFnGL', 'fMzfJVccNzmcmwm'], ['qggSRgtjgCRtdt', 'NZCJMCcZwTZVcm'], ['RBbHbbRR', 'nLBDDrvN'], ['pThhMtMtTsWspWTnGjps', 'VHPdjdjvHdgVvLDVVSjd'], ['JQNrrwCFr', 'SRLRVLnSN'], ['JQcJFCfcnfQmrbblQql', 'thGqzpZpGTBMWTMqtst'], ['DzVmzDDgsNdHHLG', 'JhJppPPllqSgbql'], ['jrBWjcQMCRc', 'hPShwSblpbW'], ['ZjRrSCtnnrtBQTcrSZ', 'mGtGFFNDHmHVVmVtzz'], ['GSbGbrTGRRSc', 'MlVFjfbqqjdF'], ['tvDmZhtNtHDttBhCmHDJHN', 'wlpjslMwfflvpqldsFpMlf'], ['HdBhLDhJDLWWLDC', 'SQGcrQPGccLTGcQ'], ['tNzrCdJBrrtQdtgQdlQQtr', 'nMZhMTqzHqqTFZZFqTHFMV'], ['bwbsRDvfwfsfcfS', 'FqMmqDqFVNMNVVH'], ['PRvfbSjNv', 'PWPlLllLJ'], ['MjMRRNRMjZt', 'GVGpBCMMCDV'], ['vwfhFzhvcJQQwJlQSddzQwF', 'WGqcDpCDqBqDTcGZTTVTCWG'], ['dvFJzrfZJhdd', 'LNLPHsrtRbPr'], ['BmbsFNBh', 'szGgGtGl'], ['MSHVwdSwZ', 'flGlcqqpM'], ['QvwZCnnnSvZdCSW', 'rNmDlPPBPDhPmjW'], ['MDwpRzRwMzMs', 'dVSjdMWWMQdW'], ['gmlftnDtHnHH', 'VWSWBjWjWgvW'], ['HbtrhbbG', 'RNDpbCDz'], ['cjVGqQqV', 'qBFhDtvB'], ['ZnTTfTffZ', 'ZmDhBtJZG'], ['fNzbpzlHTlgHNzlRTlRNbH', 'rWwrCwWSSdQddNjwVcjGSd'], ['WWrPMhwhnj', 'pSLCpDlSSW'], ['sNGBGdmTbZNGsmbstNLZGZ', 'DBRSlqSRCfRSCqRRDDqCqp'], ['NvvcGtsLdTNZmLTmd', 'JPcnnMFjFMcrVJhMF'], ['wMRQMSQZH', 'znRsqRbWp'], ['ddgDDhfDrrDdjthHmdHr', 'zpbVCVWFpfVqCWpWqpFs'], ['hdvNdHtj', 'MLJZvJwM'], ['nWzZtWzHzZWgQH', 'MNLDMDfDBfQbdD'], ['MCPmRGGh', 'qdmNjbDN'], ['FRPlMlRChCv', 'FggWZsHsZHn'], ['ZGhhjdgwgcZH', 'sPnRnSnbWscn'], ['tltlfMQQQftDFJpMQJ', 'sWJWJsnWBnRSBbrBWP'], ['lfLDpQMFMNf', 'LjGjPPgZzwh'], ['HcmvWcqnH', 'LLPDzPPHM'], ['MGGSfdJRdCglf', 'rLjrjrLzLPzlF'], ['CsgRgfwgdCwhsssJ', 'BBwvcnQnQNMvQtQm'], ['nrVbwgnSTSgSnrZ', 'pjpWWqmWNHlqqpV'], ['BcBPhSdsD', 'lHNtNlJNP'], ['RLFCQLQRRsBDDcRdGDddhCRD', 'fwzvSCnzrbfrMfMgznwwfbZv'], ['HJLzLNwBNzNJLzBJztRGz', 'QVnDgwsjbgwssZwnDZbDQ'], ['PhvlSvvPfMRl', 'DbDsggbSjQSg'], ['mFfhMlMrfchvPPpFTPvMvP', 'zLBHWRHJNtzJGzzHpzBtCC'], ['FLsgSLzLswdFgLBb', 'WZnJDWHcmZnnBjHM'], ['rpbrrqfqpvCbqqQQvvpClblR', 'DHmjmmjJJZZnWMJmmJmmcRMc'], ['qTppQvCfh', 'zSVVTzbdL'], ['ThTJtlqfDrDtffwq', 'RCFCCnLwdnmpzRdF'], ['WPQSSFsGMgQZWvFQgZgZQc', 'CdmmzLMLCpNzCCddmLzdzm'], ['cvVPGPQQGsZsgGPjVFcc', 'bHhThJHhDqfhDDjHqDrr'], ['CgnCCnPMn', 'MtGHDbMFQ'], ['zLpwpRTwwRwhRchHw', 'mqmGvvGbqmTmNQqvq'], ['sHdhzlwrRVrdLzRrprr', 'fjgfjVBnBCfSBZZgPfJ'], ['SPMdWwWPrZwdrrWrSP', 'LFDfgbQDfwDFfFglDQ'], ['qLGBtGLpjzqm', 'vQbvvpDvfFpR'], ['jhLqqHBLGjtLq', 'SZCssSTZZMshP'], ['MhJCpPDpRRFRzQQ', 'NNqbcZjNZmVhjNm'], ['LLSlLnGD', 'mNqLbNjb'], ['sfBngrBSTTSnSGHlTsHBGs', 'BpFFdRdQPDCFPWRMzzdQWM'], ['ZQtmgtWf', 'PcgPgcsb'], ['pvMhFThpHVTv', 'PbcFcFJLJDsd'], ['MTVHchVVHjHHTcpjMVBjj', 'nQnGqQZnlqBmrWQQBffQQ'], ['HfcRNJpJfhCmp', 'GSqqGNjsjBnQl'], ['tTdPwwtLTrrTVPS', 'nQsbGPsnnlFllFQ'], ['VvvTSTwWMrSZVwwrr', 'mRmczJchHcHCZhRzD'], ['wfRwhmLR', 'nvrHqHhV'], ['bJlBHlWlHMBPJzDlzMMJJSBl', 'FnrGVrqspGGvpVGPVpGsVqvp'], ['DWdStDMzt', 'CCHgZCtmZ'], ['MHdsznVDDfcjcjDcdDjmM', 'SCQwQpCpFCvqSZQqFzQpQ'], ['lhJnLJJnTNrWTR', 'qvqqPrFwZvwqQp'], ['NghhtJBtnWLRTN', 'jmcMDtjdsMfGDH'], ['jgsvPffVmHfDqP', 'SrNwnQwnwNhSvw'], ['PZbGbCdcGdRCGt', 'ntQLQQLLwtpLNw'], ['RbcPFBRFcdZ', 'BBJDBmTHjsD'], ['dTTFJdzh', 'mmmQpzVz'], ['jtNLcctGGjtfr', 'nVMsNQNQVVWnv'], ['GcrcrfLtDggLftD', 'FhZFdJFHJBVFBgZ'], ['TTbqTgqCqZC', 'rwmhQnnmrgh'], ['MhpfsMLhf', 'mrznLrQrF'], ['RsStRMtjpHMfDtWsWsNDpps', 'qlZqBlhNlbcNdTPClPqcvBP'], ['lRhZPgnpRGZl', 'SrmsLSvSzLVl'], ['wwHdHCfDQCJHdwdDMdHCcD', 'sLmNVvzVsWrcVNcVzLbrLz'], ['dMCCwCtJdwDQJM', 'tjhnvhpPhRZBhR'], ['pBqMZfDff', 'mBnvnNmPt'], ['rhwLHCChrL', 'PCMNWMCNmW'], ['GSMVRSVwHLM', 'RJDQJTZlJZR'], ['sfstzPGRRBSngMf', 'QLNNqgWLQLZZNgq'], ['scVDjjjCDTVhHlDhHdvvjwjH', 'rZmWQmJmrJJWqNqLJbrcQqZq'], ['VvHlVHldTjvhpVplhVThhwjl', 'PFSzPfGzpGBnsRffRRBPPGGF'], ['WNFNfnWTSLSJTnWShT', 'vVZCnvrdPrZvddVCrt'], ['QwsMjppcp', 'HCPdHsvPZ'], ['lcwMGgpcGbzQpMgQwbDjDQ', 'ZSJTRfShffWNJSSNFFbhSb'], ['JDNgTgqDTggQbQGbZDWb', 'JmVJrPVfPjlPfPwlljJC'], ['FZzHFSznZZtptHzcS', 'mCVrwfPVcwwVrCcdm'], ['nMSStvnZFSHpLLtBtMzHnM', 'WQvNhgDgGNRGNhgqRWTgqg'], ['SJcrhvbBLBLrDp', 'llvnwHQRnllHnQ'], ['ffsjfMMZfVdCCgCfgTzmzs', 'lRtwFwFtTnqqHTJRQnqRqq'], ['CVPgmdggVjCJ', 'SrhrbrPrrSLW'], ['LPtcLtgddLMRRCMR', 'pTBRrZnppvvGRvBw'], ['WNNJjDjqSjJSqWqzNqz', 'lSlBTGGFvrppSrwTFpn'], ['qbNDWNNHbJqV', 'tctwVmsfLCLP'], ['FvSSLMqgvVS', 'QjQfgwpwWpj'], ['BthszRPRRNbNtzmHRbHNRNP', 'fwJGcsswWQpffJpfsJcQFwJ'], ['bBtzPmRrbBRHtNCzPh', 'qdCLFMLSSvdnvCTnML'], ['VPHWJPDjVLDDjDSFDJh', 'gdnNGdbblzTzNjlnNbl'], ['ZprsRZMQwwmGZsvtQZ', 'gTfggqnbfdTzrbqlTd'], ['GZMtsscmsRZswwBQ', 'HBhDDJJPPCPWSWCJ'], ['mNDNNmmVMSVgGgG', 'GqsqGLhQqsLGhLq'], ['nZBTZpJPhCpnnr', 'sqbbcfczJfFccz'], ['HpBZZRPRHjnPPjrHnRtCZnB', 'dShDVlMDNDgVmtmDdVDWSdN'], ['tBftztmztGBBCBSGHBm', 'hvHHcchbshhThpbLJHJ'], ['wwzMrrMnQdldVdM', 'vJTcLNnphphbLJv'], ['ZzwPVrWQlwrd', 'StGGCWqDSSGW'], ['QwfrQPvhwPfzQrvWWpQpvV', 'GGTDGsjbgNNcbfsGTsDFgG'], ['CtddSdZMRRdnJhRnHtZtlRM', 'bGGDjDgggjNTZDNgTGFgGjc'], ['mdmdCnHh', 'VWmLmwwL'], ['zLcWSWFcPJLWrWLSZrJL', 'jVjHtjVsrdtstHdtVQgg'], ['nChlwwnmhlCNqhh', 'jHMgDjVVdwMjdtd'], ['CNnBmNNThhhdhCdlBGGlGvN', 'pcJbJLSbcZzcFJzpJTWPbzc'], ['LdPZTPVpLCVT', 'tCNsNsfFnlDC'], ['SMwqcqcWQMbMhWQz', 'BnsNfsFwrnnNNlrs'], ['WMMWhvQR', 'NNNjvLgZ'], ['DWFGzrtf', 'sZHZZMLt'], ['pNwNzNCNTpppmnvN', 'MTLVjHLBLLjMRTLH'], ['PPdlPmJJNNCl', 'DdcdDDfWhzrW'], ['nSJVSHQQn', 'wLThnhrML'], ['ddsjfRdGZjmGjR', 'TwwTZhwrMwWwtb'], ['qCdfRdMmgssPfjsdjdPs', 'pBzQpScSSCBpzNBQzcQz'], ['fJnmRMJrlrmRmTRmb', 'qssWVdqNVQdswdNNb'], ['GZggFHGhHHgHSFvtHPPP', 'sfwgwNsVqjqNpNjNNssN'], ['PPSPDDBPB', 'mBMlLfmLr'], ['BdqdCBqqCVPVTZBrl', 'JcTcTJTcfcbwwmcgv'], ['WjGGLzLMhpWQmRGhp', 'HfbhcDhHHHhgcsbJD'], ['tQzSGjWRzW', 'BntntrZmVB'], ['clfLQLgfzfTLD', 'MwNrNrrNDGCGG'], ['tmbpFtBvvmv', 'dQQdFQwMJCG'], ['SnbtnqnSbnQQsBq', 'zgLgVsLZTLTPfVg'], ['QnQBQQBVzqqzpmfgBpnqS', 'DFPjhhWsFVhlsFFsDstFs'], ['MGGrTHcvRTTrrrC', 'DpjvWtFPlFlsvjp'], ['bZbpTpJJ', 'BBQmBmJf'], ['dNVgDdVtPcNPhg', 'TLPLpTPlnTHHRn'], ['WrvjvwjWwfwWjGJsrwBjQJj', 'TQLbnSTTmpTRQSTClHTbLmn'], ['JqWWGvBJBwGJfJJGvw', 'qZZddFtDFhgDqZhHNM'], ['VwJcNgbfvfJbfcm', 'GLZfPhZLfZGTDhP'], ['CnnrlBlprsBnzQFntn', 'ZLqDhZZqThWGtWWSPL'], ['FllFdCjzlsCz', 'jJNJGGJwHHVg'], ['fTbVBmNJCJRVbTmbfJ', 'FHsDjQHDHQjnQRsvDn'], ['cLWcrGtttddMPhrPhPtPrtz', 'snSQQBvHjFpFSpDHsMjnvjD'], ['PrPgPdhGWLrrqgdqc', 'VCffbNblBwfVmwqwC'], ['gmBfbmlbB', 'DqrdfrDcJ'], ['PwVWrQphQWWhQ', 'sJFcMPqzDdcJq'], ['QWCSSHpSQWCttQpCRCHNS', 'lZBtrmBZTjvGgZjmBZjBn'], ['JrnhMPvtVtPVHJ', 'GrBrQwTmQmRGGB'], ['pSSZCFClCbbSLbljZlSlFFs', 'zzBwcZNwTzQNDmBwGTBNTBz'], ['ldsCCjpFjCqdLgsFjpsLFQg', 'tnfqtJvnMtnvhWnHHMnnVWV'], ['hzNHzHjWNzwHjj', 'hprpGvGgvGvvpv'], ['PLBVVRPDLd', 'rgCdMrdrdC'], ['FmBTqTmLPrsFqTBDcTTV', 'tNNJztqWQNQtWWtJqNNz'], ['fFffFvFBgHQWHdvfGglB', 'WbqbPSSbSwVntPhZwwbS'], ['jJCMzNMCjNCLNMjjp', 'hPSPqhbqnwPZLSqZh'], ['rNpJJDzpcNMzz', 'dBnGcQTccBvgv'], ['FRFMwsrzVtws', 'tgbCHHJJPgNb'], ['hfZGhZDnnT', 'THTCCNzJjH'], ['hppDvznmZphZQ', 'VFQwFVWlRqFls'], ['jrjrgdHdFBZsBl', 'cCGghWNgpgbCCp'], ['QwJJqQQMLwPTwLMMwzvzwwz', 'hCWbvcNcCChWpchWbNGfFff'], ['qqFQJTmwJSP', 'jZsrlnBjdHm'], ['QfffRppWfHpQSrWVp', 'SGmGMMccSjBjmmGmc'], ['qdzLvbwzwdsWwnFd', 'BBcBhMjMDvBBcBhc'], ['bPdZPqddqzFsZ', 'VRptZZQHVWNpN'], ['BzBQQHNjTSz', 'zJDDFZFgJDJ'], ['qLvCnLpfCpqCnLJhntR', 'glFncDrGrllmZFZlDrc'], ['JpqvfhRhLddfpbbtsdJ', 'WjHSwHHTNSQNPTVHQTb'], ['qVQCCVlQZWgHZMqgqWl', 'rtScFwrmtmcJqSSsSJS'], ['MzdnddpNLzhRpzbzNPPBbP', 'ScjcnmrwSFjSjSJFtrwjcF'], ['ddTzRMPLdLbvhBRdL', 'WGQClVVCWQZQDTGGf'], ['DHHTsldDNdPnVDCRDCNHllH', 'wcMpprSMpRmphhRWhrhmzSS'], ['qJLBqQLvJLQgftgPjJ', 'rhrMMWSmWMmMrrSqrc'], ['FjfFftgLBjJPBLQZGvvZt', 'NClnTTNGCdHTbCCNsnslH'], ['jHHNsNqhjsShsshd', 'RRCDMfMbCWHBrGGC'], ['TJQFmnpgmTpB', 'DCgCMCDZCGDC'], ['FwpQzwQTmVvwTJmFJzTcQ', 'SdhBNztNPNjSlqLhBNhSh'], ['vBCfSDcRMfRcRHSRRZZ', 'tPwrWWNtdSmrNVGSdwm'], ['gbLnTzqTbjhGqFzg', 'WrtttQtrPQTtNPmP'], ['zbhjzglgzz', 'lBGcsflsCl'], ['jNHDNNHjVGVDN', 'QFDTQSFZzDQTd'], ['vvLwhbnpvPPgClwn', 'fFTmTZQgffFFtTfc'], ['LrhrLvwrnJvhC', 'HVVRZNMjsRJVB'], ['ShfcBWfvdhhJBB', 'VwCJjHTRNwRVNC'], ['qQzlDqMDDDslPqG', 'VLTNZVpPwTRZZpV'], ['bgbDbsqzsD', 'TcfrgFFdgg'], ['vlRHvvHwvMMMTTlvjmRtBj', 'SJmSnDnpdrpSSrJJnDQrLp'], ['cPfCgZZzNzzcGhNszcTPNZ', 'LrnVSJpJhDrrhSSQSpDDQn'], ['FbTgbGcgNgcFbPF', 'HMqvjjRtjRWvFvt'], ['fZTnqfFFDNglcjdjZcf', 'LGQJBwrGGQwbGQTBBJz'], ['VhvfvsPpWRChmphvR', 'GBbBLGhSbLrBQBSwb'], ['pCsCsHvsstPsfRMMMtm', 'DqFjngdFZqDHFnNFFjl'], ['PVVwffMlfGWMDDSwfDwV', 'pRpsZRjBHgpSsjJSpBSp'], ['TdnFbqTFdmbjctcqcb', 'RBZtJJZgsBzBBzvgHJ'], ['bNmbcqnnbNFLChC', 'VCfjDfWlMjVDPCr'], ['JBLLjBQccLLJhcB', 'DDlSrdFDsVhrVsR'], ['HgNWCgqWGbvCRRZvGWvZ', 'mszsSlrWdSdFrWzSldDF'], ['qvGCZGHggRNHvGTgv', 'LnBjpjjPJwTPjLcJj'], ['GCGwQrwBZMZ', 'dGVdLzbqbbp'], ['TRfTTCtgcDmhtDmsTD', 'VSbvpLdNpzNVRqVdVL'], ['CfDJjscgTcsjfht', 'FZljPZWZMWPlZjQ'], ['WsrjjfRfjjZjwjWj', 'BpDpVpVhMBsMMSBT'], ['JgmqHnCHHPCCtCJg', 'SZMgZppDTgzvzZMz'], ['HCGCGqqqCtmnHnqLFH', 'WjlFrWRRbfjZccNWrR'], ['BJBfSfPLPvdhvrbbv', 'pDsHgDTzgpdzgZpgN'], ['cVcmRnCWCqGn', 'gHpZsZsTsqNN'], ['jmGCVwWjjnWFMjGwcwm', 'rLJbBJPbLSrPPTbFBTr'], ['SPZmmtlmqjZlZMwhlrt', 'ggqGGcCLCpfGLgqdCqF'], ['FBBVDVTVDJ', 'fgcddLCDdp'], ['zzVHvVNTbWJJTTRbVWBFJbW', 'HmwmSPlMjPSShjlhMhhrrml'], ['GJZJZTsnhsDJtVZdtsZJZ', 'rBCQpLjQgBnrQgjCjQQQj'], ['RPSfqcRShHbFcPSf', 'BqLLprBCwrQQQCqg'], ['zPzPRHbFPcRRRHPclMhSfvf', 'ZsJZVTTZsJNVMGWGVdGTWWD'], ['lCZrCLWCwVllGzWPPB', 'MTFpsbGdsTpsbNMgFb'], ['RDjtjHcHjcHctDRtjnhtnH', 'TgMqTMqhTbdbdZbgFqZdMN'], ['vfDmvfjtmvtcHmjZfSRZHQ', 'zBLrVLCJLJLfJBPzVJlwPw'], ['JMTHVZMW', 'NSCwCwMS'], ['nsddQbDCnQQdDBPdCQC', 'SvwpDvwffhfSvpmppvp'], ['BssqBFtq', 'RHgTqVRC'], ['cWTTthtrgr', 'zpCdCddtpz'], ['SSSLNJLGLSL', 'fCJfJFQCJzQ'], ['swMPMZVMMSlMSZMqVSS', 'HznzcqgzWTHgTnhbnrr'], ['RJjjgMjWSh', 'PqchtbVBPV'], ['DDddwCnZMHLLvDnfLrvv', 'bVbbBtpwVBVPwtVpbcbb'], ['zrvnvLrlZCHrfZZLffHZHH', 'TsTmsQgFQSFTMjjQlFTRmR'], ['zhTTMLRVTzLbVqwVRJ', 'gDQQsSCgCDNgsZCpqp'], ['rrmrBmmWrWnHjWnGWrnGnh', 'DHSQgNSpQsCgSNgtNtDDHZ'], ['fBrGPGmGPB', 'cTMfLhJVTc'], ['TbTCjTBSbCnc', 'HsDZDZPhZbzv'], ['rMwplFdlWWJMJ', 'zhhpGtHtvHSSP'], ['fMMfwWdWrNfJNdlVgM', 'cTLTmLffjTqnLScCjL'], ['SwhTllwJDwqq', 'BWLBbNtfhjBB'], ['mvllZMmRMZGFZR', 'fctLWtWttzfNLR'], ['MGvHMCGpVnFGlgvVFFnpnGmm', 'sHrDJJdSsqPqJSqDJJdTTDqD'], ['QTTcqJZJhHSpShh', 'FpFzjDDwwsFzpdg'], ['NBMnBvmBPv', 'wrqvgvvqgD'], ['bNNGmWmbbCl', 'QTQRqchhQbf']]\n"
     ]
    }
   ],
   "source": [
    "with open('./Assets/3.txt') as f:\n",
    "    contents = f.read()\n",
    "\n",
    "contents = contents.split(\"\\n\")\n",
    "\n",
    "input = []\n",
    "for content in contents:\n",
    "  input.append([content[:len(content)//2], content[len(content)//2:]])\n",
    "\n",
    "print(input)\n"
   ]
  },
  {
   "cell_type": "code",
   "execution_count": 11,
   "metadata": {},
   "outputs": [
    {
     "name": "stdout",
     "output_type": "stream",
     "text": [
      "['v', 'h', 's', 'V', 'N', 'H', 'P', 'v', 'S', 'M', 'B', 'f', 'M', 'n', 'B', 'D', 'Z', 'f', 'Q', 'p', 'V', 'Z', 'n', 'g', 'B', 'c', 'h', 'd', 'T', 'q', 'P', 'j', 'D', 'w', 'z', 'N', 'M', 't', 'r', 'D', 'l', 'j', 'P', 'M', 'S', 'Z', 'B', 'f', 'S', 'B', 's', 'p', 'F', 'g', 'f', 'C', 'B', 'j', 'N', 'q', 'g', 'W', 't', 'b', 'v', 'L', 'z', 'D', 'P', 'M', 'c', 'r', 's', 'M', 'W', 'M', 'g', 'b', 'q', 'Z', 'N', 'W', 'B', 'c', 'R', 'f', 'v', 'Q', 'm', 'F', 'c', 'J', 'L', 'H', 'l', 'w', 'V', 'P', 'C', 'w', 'S', 'p', 'B', 'R', 'T', 'w', 'M', 'j', 'M', 'T', 'V', 'w', 'p', 'h', 'h', 'L', 'B', 'g', 'F', 'B', 'N', 'P', 'Z', 'h', 'P', 't', 'z', 'r', 't', 'v', 't', 'B', 'z', 'N', 'g', 'g', 'L', 'N', 'l', 'c', 't', 'B', 'C', 'R', 'g', 'c', 'p', 'n', 's', 'b', 'J', 'c', 'v', 'v', 'T', 'P', 'R', 'S', 'V', 'g', 's', 'C', 'j', 'r', 'B', 'G', 'J', 't', 'H', 'n', 'W', 'f', 'Z', 'm', 'r', 'w', 'T', 'C', 'w', 'v', 't', 'T', 'd', 'n', 'Z', 'C', 'b', 'g', 'B', 'T', 'h', 't', 'D', 'F', 's', 'V', 'v', 'J', 'P', 'Q', 'q', 'f', 't', 'j', 'R', 'M', 'q', 'f', 'P', 't', 'r', 'Z', 'q', 'h', 'd', 'q', 'W', 'L', 'c', 't', 'T', 'Q', 'g', 'v', 'm', 'S', 'v', 'Z', 'z', 'n', 'b', 'q', 'n', 'T', 'R', 'q', 'G', 'H', 'g', 'z', 'S', 'T', 'l', 'D', 'g', 'J', 'J', 'P', 'g', 'm', 'h', 'F', 'T', 'h', 'H', 'S', 't', 'C', 'h', 'W', 'T', 'G', 'R', 'j', 's', 'g', 'F', 'd', 'q', 'F', 'q', 'D', 'H', 'n', 'q', 'M', 'G', 'h', 'f', 'M', 'D', 'q', 't', 'J', 'q', 'h', 'w', 'l', 'q', 'H', 'f', 'b', 'p', 'f', 'h', 'R', 'H', 'p', 'v', 'b']\n"
     ]
    }
   ],
   "source": [
    "elements = []\n",
    "\n",
    "for sack in input:\n",
    "  elements.append(''.join(set(sack[0]).intersection(sack[1])))\n",
    "\n",
    "print(elements)\n",
    "\n",
    "\n"
   ]
  },
  {
   "cell_type": "code",
   "execution_count": 12,
   "metadata": {},
   "outputs": [
    {
     "name": "stdout",
     "output_type": "stream",
     "text": [
      "7716\n"
     ]
    }
   ],
   "source": [
    "result = 0\n",
    "for charac in elements:\n",
    "  if charac.islower():\n",
    "    result += (ord(charac) - ord('a')) + 1\n",
    "  else:\n",
    "    result += (ord(charac) - ord('A')) + 27\n",
    "\n",
    "print(result)"
   ]
  },
  {
   "cell_type": "code",
   "execution_count": null,
   "metadata": {},
   "outputs": [],
   "source": [
    "with open('./Assets/3.txt') as f:\n",
    "    contents = f.read()\n",
    "\n",
    "contents = contents.split(\"\\n\")\n",
    "\n",
    "new_input = []\n",
    "for i in range(0, len(contents), 3):\n",
    "  new_input.append([contents[i], contents[i+1], contents[i+2]])\n",
    "\n",
    "print(new_input)\n"
   ]
  },
  {
   "cell_type": "code",
   "execution_count": 17,
   "metadata": {},
   "outputs": [
    {
     "name": "stdout",
     "output_type": "stream",
     "text": [
      "['t', 'G', 'Q', 'q', 'N', 'C', 'n', 'L', 'd', 'g', 'V', 'q', 'C', 'G', 'D', 'T', 'v', 'm', 'N', 'n', 'S', 'd', 'N', 'Z', 'l', 'D', 'G', 'L', 'H', 'M', 'P', 'M', 'S', 'R', 'b', 'F', 'H', 'L', 'D', 'c', 'S', 'H', 'n', 'P', 'V', 'h', 'v', 'M', 's', 'Z', 'Z', 'J', 'w', 'F', 'G', 'h', 'z', 'h', 'd', 'N', 'z', 'M', 'f', 'm', 'Q', 'p', 'H', 'G', 'B', 'r', 'Q', 'r', 'n', 'z', 'F', 'W', 'J', 'M', 'P', 'B', 'G', 'Z', 'T', 'T', 'f', 'j', 'R', 'C', 'Z', 'T', 'F', 'h', 'Z', 'C', 'z', 'M', 'h', 'S', 'l', 'q']\n"
     ]
    }
   ],
   "source": [
    "chars = []\n",
    "\n",
    "for text in new_input:\n",
    "  for w in set(text[0]):\n",
    "    if (w in text[1]) and (w in text[2]):\n",
    "      chars.append(w)\n",
    "\n",
    "print(chars)"
   ]
  },
  {
   "cell_type": "code",
   "execution_count": 18,
   "metadata": {},
   "outputs": [
    {
     "name": "stdout",
     "output_type": "stream",
     "text": [
      "2973\n"
     ]
    }
   ],
   "source": [
    "result = 0\n",
    "for char in chars:\n",
    "  if char.islower():\n",
    "    result += (ord(char) - ord('a')) + 1\n",
    "  else:\n",
    "    result += (ord(char) - ord('A')) + 27\n",
    "\n",
    "print(result)\n"
   ]
  }
 ],
 "metadata": {
  "kernelspec": {
   "display_name": "Python 3.9.13 64-bit",
   "language": "python",
   "name": "python3"
  },
  "language_info": {
   "codemirror_mode": {
    "name": "ipython",
    "version": 3
   },
   "file_extension": ".py",
   "mimetype": "text/x-python",
   "name": "python",
   "nbconvert_exporter": "python",
   "pygments_lexer": "ipython3",
   "version": "3.9.13 (main, May 24 2022, 21:13:51) \n[Clang 13.1.6 (clang-1316.0.21.2)]"
  },
  "orig_nbformat": 4,
  "vscode": {
   "interpreter": {
    "hash": "b0fa6594d8f4cbf19f97940f81e996739fb7646882a419484c72d19e05852a7e"
   }
  }
 },
 "nbformat": 4,
 "nbformat_minor": 2
}
