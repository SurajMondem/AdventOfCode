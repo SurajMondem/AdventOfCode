{
 "cells": [
  {
   "cell_type": "code",
   "execution_count": 67,
   "metadata": {},
   "outputs": [],
   "source": [
    "with open('./Assets/7.txt') as f:\n",
    "    contents = f.read()\n",
    "\n",
    "contents = contents.split(\"\\n\")\n"
   ]
  },
  {
   "cell_type": "code",
   "execution_count": 68,
   "metadata": {},
   "outputs": [
    {
     "name": "stdout",
     "output_type": "stream",
     "text": [
      "{'/': 41272621, '/brdsppd': 5609550, '/brdsppdgjc': 2092857, '/brdsppdgjcbvctghh': 1227633, '/brdsppdgjcbvctghhlsprzlbf': 908369, '/brdsppdgjcbvctghhlsprzlbfhts': 63740, '/brdsppdgjcbvctghhlsprzlbflwfgnzz': 58586, '/brdsppdgjcbvctghhlsprzlbflwfgnzztjslbpb': 58586, '/brdsppdgjcbvctghhlwfgnzz': 199598, '/brdsppdgjcbvctghhtjslbpb': 119666, '/brdsppdgjcgwd': 198799, '/brdsppdgjcgwdbcfqd': 197168, '/brdsppdgjclsprzlbf': 270022, '/brdsppdgjclsprzlbfjwznh': 270022, '/brdsppdgjclsprzlbfjwznhlpm': 230990, '/brdsppdgjclsprzlbfjwznhncs': 15150, '/brdsppdgjclsprzlbfjwznhncsrzdbw': 15150, '/brdsppdgjclsprzlbfjwznhvqprn': 23882, '/brdsppdlcz': 385818, '/brdsppdqnj': 2514986, '/brdsppdqnjbpvl': 129477, '/brdsppdqnjbpvlnmzbpb': 129477, '/brdsppdqnjlwfgnzz': 1144076, '/brdsppdqnjlwfgnzzlwfgnzz': 33186, '/brdsppdqnjlwfgnzzrsbdcwjr': 856367, '/brdsppdqnjlwfgnzzrsbdcwjrlsprzlbf': 856367, '/brdsppdqnjlwfgnzzrsbdcwjrlsprzlbfjvcgnbs': 335916, '/brdsppdqnjlwfgnzzrsbdcwjrlsprzlbfjvcgnbsctlwjnjz': 72087, '/brdsppdqnjlwfgnzzrsbdcwjrlsprzlbfjvcgnbslwfgnzz': 151358, '/brdsppdqnjlwfgnzzrsbdcwjrlsprzlbfjvcgnbstjslbpb': 112471, '/brdsppdqnjlwfgnzzrsbdcwjrlsprzlbfvnftvqf': 120421, '/brdsppdqnjlwfgnzzsgh': 228239, '/brdsppdqnjlwfgnzzwvwmf': 26284, '/brdsppdqnjlwfgnzzwvwmfbcjfz': 26284, '/brdsppdqnjznbdpp': 363957, '/brdsppdqnjznbdppszfw': 363957, '/brdsppdqnjznbdppszfwnthzqpws': 96382, '/brdsppdqnjznbdppszfwsnfmt': 267575, '/brdsppdrrdd': 185903, '/brdsppdzppsglq': 211443, '/dnjqmzgg': 811944, '/dnjqmzgglsprzlbf': 425696, '/dnjqmzgglsprzlbflbw': 284280, '/dnjqmzgglwfgnzz': 36709, '/dnjqmzggnmvj': 271748, '/dnjqmzggnmvjdqpw': 10608, '/dnjqmzggnmvjtjslbpb': 261140, '/dnjqmzggsfpg': 77791, '/lbbcfjl': 11657747, '/lbbcfjlcsnjp': 5124007, '/lbbcfjlcsnjpffgfmcm': 2876769, '/lbbcfjlcsnjpffgfmcmbcnvw': 1300850, '/lbbcfjlcsnjpffgfmcmbcnvwngtbzz': 498179, '/lbbcfjlcsnjpffgfmcmbcnvwngtbzzczrqmh': 225055, '/lbbcfjlcsnjpffgfmcmbcnvwngtbzzjrhpnpw': 206497, '/lbbcfjlcsnjpffgfmcmbcnvwngtbzzlsprzlbf': 66627, '/lbbcfjlcsnjpffgfmcmbcnvwtjslbpb': 367274, '/lbbcfjlcsnjpffgfmcmbcnvwtjslbpbcgzlp': 18201, '/lbbcfjlcsnjpffgfmcmbcnvwtjslbpbszfw': 104128, '/lbbcfjlcsnjpffgfmcmlcf': 137662, '/lbbcfjlcsnjpffgfmcmlsprzlbf': 1438257, '/lbbcfjlcsnjpffgfmcmlsprzlbflsprzlbf': 257261, '/lbbcfjlcsnjpffgfmcmlsprzlbfszw': 346684, '/lbbcfjlcsnjpffgfmcmlsprzlbfszwjtvschrd': 63876, '/lbbcfjlcsnjpffgfmcmlsprzlbfszwjtvschrdgtz': 63876, '/lbbcfjlcsnjpffgfmcmlsprzlbfszwjtvschrdgtzrdzzlm': 63876, '/lbbcfjlcsnjpffgfmcmlsprzlbfszwzcnpls': 282808, '/lbbcfjlcsnjpgtd': 1346480, '/lbbcfjlcsnjpgtdrwjdjqcs': 77026, '/lbbcfjlcsnjpgtdtjslbpb': 928771, '/lbbcfjlcsnjpgtdtjslbpbdfl': 928771, '/lbbcfjlcsnjpgtdtjslbpbdfltjslbpb': 502027, '/lbbcfjlcsnjpgtdtjslbpbdfltjslbpblwfgnzz': 49701, '/lbbcfjlcsnjpgtdtjslbpbdflzgh': 138627, '/lbbcfjlcsnjplbjvqv': 354532, '/lbbcfjlcsnjplbjvqvbnl': 354532, '/lbbcfjlcsnjplbjvqvbnlgbv': 205021, '/lbbcfjlcsnjplbjvqvbnlgbvlsprzlbf': 168615, '/lbbcfjlcsnjplbjvqvbnllwfgnzz': 149511, '/lbbcfjlcsnjplwfgnzz': 534914, '/lbbcfjldrwpfn': 2802017, '/lbbcfjldrwpfnfvgw': 241540, '/lbbcfjldrwpfnfvgwtlzmplfl': 241540, '/lbbcfjldrwpfnlsprzlbf': 598776, '/lbbcfjldrwpfnlsprzlbflcqhctjl': 209114, '/lbbcfjldrwpfnlsprzlbfldr': 148649, '/lbbcfjldrwpfnlsprzlbftjslbpb': 241013, '/lbbcfjldrwpfnlwfgnzz': 355612, '/lbbcfjldrwpfntjslbpb': 857129, '/lbbcfjldrwpfntjslbpbpblzrspg': 587224, '/lbbcfjldrwpfntjslbpbpblzrspgpgl': 587224, '/lbbcfjldrwpfntjslbpbpblzrspgpglvzff': 167559, '/lbbcfjldrwpfntjslbpbqqgddb': 263, '/lbbcfjldrwpfntjslbpbqqgddbszfw': 263, '/lbbcfjldrwpfntjslbpbqqgddbszfwjtw': 263, '/lbbcfjldrwpfnwnrns': 281477, '/lbbcfjljvcgnbs': 591284, '/lbbcfjllsprzlbf': 347833, '/lbbcfjllsprzlbflwfgnzz': 105095, '/lbbcfjllsprzlbftjslbpb': 242738, '/lbbcfjlpdzlnm': 1958425, '/lbbcfjlpdzlnmlsprzlbf': 71362, '/lbbcfjlpdzlnmqldhzf': 303106, '/lbbcfjlpdzlnmrtdsjf': 428877, '/lbbcfjlpdzlnmrtdsjfrzc': 383096, '/lbbcfjlpdzlnmsfdtljj': 1009621, '/lbbcfjlpdzlnmsfdtljjjvcgnbs': 92642, '/lbbcfjlpdzlnmsfdtljjpnphc': 288388, '/lbbcfjlzhgchnld': 128632, '/mzdqcb': 18489666, '/mzdqcbbfphcs': 124148, '/mzdqcbcgjmj': 2437438, '/mzdqcbcgjmjjvcgnbs': 988472, '/mzdqcbcgjmjjvcgnbscrmsnch': 694223, '/mzdqcbcgjmjjvcgnbsjvcgnbs': 294249, '/mzdqcbcgjmjsvbsrj': 1091824, '/mzdqcbcgjmjsvbsrjczltsqrg': 457138, '/mzdqcbcgjmjsvbsrjntdjg': 284994, '/mzdqcbcgjmjsvbsrjntdjgszfw': 284994, '/mzdqcbjgcqqsh': 2462, '/mzdqcbjvcgnbs': 450726, '/mzdqcbjvcgnbsftjprdj': 160761, '/mzdqcbjvcgnbsftjprdjwnmhs': 160761, '/mzdqcbjvcgnbsftjprdjwnmhstjslbpb': 160761, '/mzdqcbjvcgnbsftjprdjwnmhstjslbpbjvcgnbs': 160761, '/mzdqcblccjbtqs': 861973, '/mzdqcblccjbtqsjjrdbgtg': 237358, '/mzdqcblwfgnzz': 13437491, '/mzdqcblwfgnzzggptdvr': 184198, '/mzdqcblwfgnzzjnb': 667590, '/mzdqcblwfgnzzlcpmzpr': 3115150, '/mzdqcblwfgnzzlcpmzprqwqcbdms': 1552172, '/mzdqcblwfgnzzlcpmzprqwqcbdmsjnfmcnfh': 236114, '/mzdqcblwfgnzzlcpmzprqwqcbdmsjnfmcnfhrngnt': 236114, '/mzdqcblwfgnzzlcpmzprqwqcbdmsqshphcb': 78407, '/mzdqcblwfgnzzlcpmzprqwqcbdmstjslbpb': 831792, '/mzdqcblwfgnzzlcpmzprqwqcbdmstjslbpbznr': 108194, '/mzdqcblwfgnzzlcpmzprwcc': 979279, '/mzdqcblwfgnzzlcpmzprwccnvgfwn': 368605, '/mzdqcblwfgnzzsmvwg': 1095360, '/mzdqcblwfgnzzsmvwgjvcgnbs': 627969, '/mzdqcblwfgnzzsmvwgtgrm': 389881, '/mzdqcblwfgnzzwghpmnm': 113354, '/mzdqcblwfgnzzwghpmnmhpm': 113354, '/mzdqcblwfgnzzwtrbfrj': 7206990, '/mzdqcblwfgnzzwtrbfrjggrsgzvv': 6159189, '/mzdqcblwfgnzzwtrbfrjggrsgzvvdpv': 777075, '/mzdqcblwfgnzzwtrbfrjggrsgzvvdpvfzlchpb': 150431, '/mzdqcblwfgnzzwtrbfrjggrsgzvvgqtsmnr': 3744924, '/mzdqcblwfgnzzwtrbfrjggrsgzvvgqtsmnrjdml': 2232425, '/mzdqcblwfgnzzwtrbfrjggrsgzvvgqtsmnrjdmllsprzlbf': 2084092, '/mzdqcblwfgnzzwtrbfrjggrsgzvvgqtsmnrjdmllsprzlbfcslvm': 266380, '/mzdqcblwfgnzzwtrbfrjggrsgzvvgqtsmnrjdmllsprzlbflwfgnzz': 413359, '/mzdqcblwfgnzzwtrbfrjggrsgzvvgqtsmnrjdmllsprzlbflwfgnzztzghdrd': 413359, '/mzdqcblwfgnzzwtrbfrjggrsgzvvgqtsmnrjdmllsprzlbflwfgnzztzghdrdtjslbpb': 18188, '/mzdqcblwfgnzzwtrbfrjggrsgzvvgqtsmnrjdmllsprzlbflwfgnzztzghdrdtjslbpbjvcgnbs': 18188, '/mzdqcblwfgnzzwtrbfrjggrsgzvvgqtsmnrjdmllsprzlbflwfgnzztzghdrdvhv': 395171, '/mzdqcblwfgnzzwtrbfrjggrsgzvvgqtsmnrjdmllsprzlbflwfgnzztzghdrdvhvsrgh': 299624, '/mzdqcblwfgnzzwtrbfrjggrsgzvvgqtsmnrjdmllsprzlbfrllt': 968440, '/mzdqcblwfgnzzwtrbfrjggrsgzvvgqtsmnrjdmllsprzlbfrlltcrpcbl': 209445, '/mzdqcblwfgnzzwtrbfrjggrsgzvvgqtsmnrjdmllsprzlbfrlltszfw': 450810, '/mzdqcblwfgnzzwtrbfrjggrsgzvvgqtsmnrjdmllsprzlbfrlltszfwlsprzlbf': 291090, '/mzdqcblwfgnzzwtrbfrjggrsgzvvgqtsmnrjdmllsprzlbfszfw': 113605, '/mzdqcblwfgnzzwtrbfrjggrsgzvvgqtsmnrjfqtjt': 1148325, '/mzdqcblwfgnzzwtrbfrjggrsgzvvgqtsmnrjfqtjtrbv': 300632, '/mzdqcblwfgnzzwtrbfrjggrsgzvvgqtsmnrjfqtjttjslbpb': 221545, '/mzdqcblwfgnzzwtrbfrjggrsgzvvgqtsmnrlwfgnzz': 34086, '/mzdqcblwfgnzzwtrbfrjggrsgzvvgqtsmnrtjslbpb': 330088, '/mzdqcblwfgnzzwtrbfrjggrsgzvvlsprzlbf': 1174945, '/mzdqcblwfgnzzwtrbfrjggrsgzvvlsprzlbfcpgjgbdf': 91787, '/mzdqcblwfgnzzwtrbfrjggrsgzvvlsprzlbfcpgjgbdfvzddwsr': 91787, '/mzdqcblwfgnzzwtrbfrjggrsgzvvlsprzlbfszfw': 193316, '/mzdqcblwfgnzzwtrbfrjggrsgzvvpcjcm': 240331, '/mzdqcblwfgnzzwtrbfrjggrsgzvvpcjcmlsprzlbf': 240331, '/mzdqcblwfgnzzwtrbfrjmvzzsl': 221025, '/mzdqcblwfgnzzwtrbfrjmvzzslrnrtf': 221025, '/mzdqcblwfgnzzwtrbfrjszfw': 682749, '/mzdqcblwfgnzzwtrbfrjszfwjvcgnbs': 606022, '/mzdqcblwfgnzzwtrbfrjszfwjvcgnbstlms': 288975, '/mzdqcblwfgnzzwtrbfrjszfwszfw': 45362, '/mzdqcblwfgnzzwtrbfrjvsqjb': 144027, '/mzdqcblwfgnzzwtrbfrjvsqjbvvnzdcbb': 144027, '/mzdqcbpprvjm': 471636, '/mzdqcbpprvjmhvst': 100531, '/mzdqcbpprvjmszfw': 233868, '/mzdqcbszfw': 14971, '/mzdqcbtjslbpb': 283684, '/mzdqcbztc': 405137, '/mzdqcbztcbwhfncdm': 108615, '/npppw': 598865, '/plmb': 435738, '/plmbdwnpl': 280937, '/plmblwfgnzz': 154801, '/szfw': 3132129, '/szfwlwfgnzz': 2888102, '/szfwlwfgnzzjgwzcgd': 1870168, '/szfwlwfgnzzjgwzcgdjvcgnbs': 1836620, '/szfwlwfgnzzjgwzcgdjvcgnbspzcssdhv': 303189, '/szfwlwfgnzzjgwzcgdjvcgnbsqcmqmnpn': 435190, '/szfwlwfgnzzjgwzcgdjvcgnbswmhhl': 168011, '/szfwlwfgnzzjgwzcgdnvtvcf': 33548, '/szfwlwfgnzzjgwzcgdnvtvcfrrzjjjhc': 33548, '/szfwlwfgnzzqgdcjq': 252274, '/szfwlwfgnzzspwcmrl': 765660, '/szfwlwfgnzzspwcmrllslmr': 172247, '/szfwlwfgnzzspwcmrlszfw': 192729}\n"
     ]
    }
   ],
   "source": [
    "import re\n",
    "\n",
    "path = list()\n",
    "tree = dict()\n",
    "\n",
    "for l in contents:\n",
    "    if l == '$ cd ..':\n",
    "        path.pop(-1)\n",
    "        continue\n",
    "\n",
    "    if l.startswith('$ cd'):\n",
    "        path.append(l[5:])\n",
    "\n",
    "        if ''.join(path) not in tree.keys():\n",
    "            tree.update({''.join(path): 0})\n",
    "\n",
    "        continue\n",
    "\n",
    "    if re.search(\"^\\d+ \", l):\n",
    "        size, _ = l.split(' ')\n",
    "        pwd = list()\n",
    "\n",
    "        for d in path:\n",
    "            pwd.append(d)\n",
    "            tree.update({''.join(pwd): tree[''.join(pwd)] + int(size)})\n",
    "\n",
    "        continue\n",
    "\n",
    "\n",
    "print(tree)"
   ]
  },
  {
   "cell_type": "code",
   "execution_count": 69,
   "metadata": {},
   "outputs": [
    {
     "name": "stdout",
     "output_type": "stream",
     "text": [
      "1644735\n"
     ]
    }
   ],
   "source": [
    "print(sum([i for i in tree.values() if i < 100000]))\n"
   ]
  },
  {
   "cell_type": "code",
   "execution_count": 71,
   "metadata": {},
   "outputs": [],
   "source": [
    "path = list()\n",
    "tree = dict()\n",
    "\n",
    "for l in contents:\n",
    "    if l == '$ cd ..':\n",
    "        path.pop(-1)\n",
    "        continue\n",
    "\n",
    "    if l.startswith('$ cd'):\n",
    "        path.append(l[5:])\n",
    "\n",
    "        if ''.join(path) not in tree.keys():\n",
    "            tree.update({''.join(path): 0})\n",
    "\n",
    "        continue\n",
    "\n",
    "    if re.search(\"^\\d+ \", l):\n",
    "        size, _ = l.split(' ')\n",
    "        pwd = list()\n",
    "\n",
    "        for d in path:\n",
    "            pwd.append(d)\n",
    "            tree.update({''.join(pwd): tree[''.join(pwd)] + int(size)})\n",
    "\n",
    "        continue\n"
   ]
  },
  {
   "cell_type": "code",
   "execution_count": 72,
   "metadata": {},
   "outputs": [
    {
     "name": "stdout",
     "output_type": "stream",
     "text": [
      "1300850\n"
     ]
    }
   ],
   "source": [
    "for i in sorted(list(tree.values())):\n",
    "    if i > 30000000 - (70000000 - tree['/']):\n",
    "        print(i)\n",
    "        break\n"
   ]
  }
 ],
 "metadata": {
  "kernelspec": {
   "display_name": "Python 3.9.13 64-bit",
   "language": "python",
   "name": "python3"
  },
  "language_info": {
   "codemirror_mode": {
    "name": "ipython",
    "version": 3
   },
   "file_extension": ".py",
   "mimetype": "text/x-python",
   "name": "python",
   "nbconvert_exporter": "python",
   "pygments_lexer": "ipython3",
   "version": "3.9.13"
  },
  "orig_nbformat": 4,
  "vscode": {
   "interpreter": {
    "hash": "b0fa6594d8f4cbf19f97940f81e996739fb7646882a419484c72d19e05852a7e"
   }
  }
 },
 "nbformat": 4,
 "nbformat_minor": 2
}
