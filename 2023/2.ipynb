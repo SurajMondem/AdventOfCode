{
 "cells": [
  {
   "cell_type": "code",
   "execution_count": 41,
   "metadata": {},
   "outputs": [
    {
     "name": "stdout",
     "output_type": "stream",
     "text": [
      "[{1: [[{'green': 1}, {'blue': 2}], [{'red': 13}, {'blue': 2}, {'green': 3}], [{'green': 4}, {'red': 14}]]}, {2: [[{'blue': 2}, {'green': 11}], [{'blue': 4}, {'red': 12}, {'green': 4}], [{'red': 7}, {'blue': 1}, {'green': 9}], [{'green': 10}, {'red': 12}, {'blue': 6}]]}, {3: [[{'blue': 1}, {'green': 12}, {'red': 2}], [{'red': 9}, {'green': 16}], [{'red': 1}, {'green': 10}, {'blue': 1}], [{'red': 1}, {'green': 14}]]}, {4: [[{'green': 8}, {'blue': 18}], [{'green': 4}, {'blue': 14}, {'red': 2}], [{'blue': 3}, {'green': 5}, {'red': 11}]]}, {5: [[{'red': 7}, {'blue': 15}, {'green': 1}], [{'blue': 13}], [{'red': 18}, {'green': 2}, {'blue': 9}], [{'blue': 19}, {'green': 5}, {'red': 10}], [{'green': 9}, {'blue': 2}, {'red': 7}]]}, {6: [[{'red': 1}, {'blue': 8}, {'green': 2}], [{'blue': 1}, {'red': 3}, {'green': 5}], [{'green': 2}, {'red': 3}, {'blue': 2}], [{'blue': 1}, {'green': 4}]]}, {7: [[{'red': 4}, {'green': 6}, {'blue': 1}], [{'blue': 3}, {'green': 9}, {'red': 5}], [{'blue': 5}, {'green': 5}, {'red': 4}], [{'green': 6}, {'blue': 5}, {'red': 5}], [{'red': 13}], [{'red': 4}, {'blue': 2}, {'green': 9}]]}, {8: [[{'blue': 7}, {'green': 14}, {'red': 5}], [{'green': 1}, {'blue': 7}, {'red': 11}], [{'blue': 6}, {'red': 16}, {'green': 4}], [{'red': 8}, {'green': 11}, {'blue': 7}], [{'blue': 6}, {'red': 18}, {'green': 9}]]}, {9: [[{'blue': 3}, {'green': 1}, {'red': 6}], [{'red': 1}, {'blue': 1}, {'green': 1}], [{'red': 6}, {'blue': 2}, {'green': 1}]]}, {10: [[{'red': 6}, {'blue': 11}, {'green': 12}], [{'blue': 1}, {'red': 2}, {'green': 3}], [{'green': 14}, {'red': 6}, {'blue': 7}], [{'red': 6}, {'blue': 10}, {'green': 9}], [{'blue': 6}, {'red': 2}]]}, {11: [[{'blue': 5}, {'red': 2}, {'green': 18}], [{'blue': 2}, {'green': 13}], [{'blue': 8}, {'green': 15}, {'red': 2}]]}, {12: [[{'red': 5}, {'blue': 4}], [{'blue': 1}, {'green': 8}, {'red': 8}], [{'green': 15}, {'red': 5}, {'blue': 4}]]}, {13: [[{'blue': 12}, {'red': 1}, {'green': 6}], [{'red': 9}, {'blue': 6}, {'green': 12}], [{'red': 3}, {'green': 11}, {'blue': 6}], [{'red': 8}, {'green': 4}, {'blue': 10}], [{'green': 3}, {'blue': 7}]]}, {14: [[{'red': 9}, {'green': 5}, {'blue': 1}], [{'red': 1}, {'blue': 3}], [{'green': 10}, {'red': 7}], [{'blue': 5}, {'green': 8}, {'red': 10}]]}, {15: [[{'blue': 3}, {'red': 9}, {'green': 14}], [{'green': 15}, {'blue': 2}, {'red': 6}], [{'green': 7}, {'red': 1}, {'blue': 5}]]}, {16: [[{'green': 7}, {'blue': 4}, {'red': 6}], [{'green': 6}, {'blue': 4}, {'red': 8}], [{'red': 5}, {'blue': 2}, {'green': 10}], [{'blue': 4}, {'red': 4}, {'green': 15}], [{'red': 9}, {'green': 15}, {'blue': 6}], [{'green': 7}, {'blue': 5}, {'red': 2}]]}, {17: [[{'red': 8}, {'green': 6}, {'blue': 2}], [{'green': 4}, {'blue': 1}, {'red': 17}], [{'green': 1}, {'red': 11}, {'blue': 1}]]}, {18: [[{'blue': 13}, {'green': 1}, {'red': 3}], [{'red': 2}, {'green': 2}], [{'red': 11}, {'green': 1}, {'blue': 7}], [{'green': 2}, {'blue': 7}, {'red': 2}]]}, {19: [[{'green': 2}, {'red': 13}, {'blue': 2}], [{'green': 1}, {'blue': 6}, {'red': 4}], [{'green': 1}, {'blue': 2}, {'red': 15}]]}, {20: [[{'red': 10}, {'blue': 11}, {'green': 8}], [{'red': 6}, {'blue': 13}, {'green': 2}], [{'blue': 6}, {'green': 8}, {'red': 3}], [{'red': 10}, {'blue': 2}, {'green': 8}], [{'red': 2}, {'blue': 3}, {'green': 7}], [{'red': 3}]]}, {21: [[{'blue': 2}, {'red': 10}], [{'green': 5}, {'red': 3}], [{'green': 5}, {'red': 4}, {'blue': 4}], [{'blue': 6}, {'red': 9}, {'green': 10}]]}, {22: [[{'red': 5}, {'green': 1}], [{'red': 5}], [{'red': 4}, {'blue': 1}], [{'blue': 1}, {'red': 10}]]}, {23: [[{'red': 2}, {'blue': 11}, {'green': 4}], [{'blue': 4}], [{'blue': 1}, {'green': 6}, {'red': 4}], [{'green': 3}, {'blue': 4}, {'red': 2}]]}, {24: [[{'green': 4}], [{'green': 12}, {'blue': 4}, {'red': 1}], [{'green': 11}, {'blue': 1}, {'red': 2}]]}, {25: [[{'red': 10}, {'blue': 1}, {'green': 3}], [{'green': 3}, {'blue': 6}, {'red': 6}], [{'green': 2}, {'red': 9}, {'blue': 2}], [{'blue': 1}, {'green': 3}, {'red': 7}], [{'blue': 6}, {'green': 4}], [{'red': 1}]]}, {26: [[{'red': 4}, {'green': 11}, {'blue': 5}], [{'blue': 2}, {'red': 11}, {'green': 9}], [{'green': 11}, {'red': 3}], [{'green': 14}, {'red': 13}, {'blue': 5}], [{'red': 10}, {'blue': 5}, {'green': 9}], [{'red': 12}, {'blue': 4}, {'green': 6}]]}, {27: [[{'red': 8}, {'blue': 9}, {'green': 7}], [{'red': 14}, {'blue': 15}, {'green': 2}], [{'green': 7}, {'blue': 13}, {'red': 9}], [{'green': 8}, {'blue': 4}, {'red': 1}]]}, {28: [[{'blue': 4}, {'green': 4}, {'red': 3}], [{'green': 4}, {'red': 9}, {'blue': 4}], [{'red': 13}, {'blue': 10}, {'green': 4}]]}, {29: [[{'red': 7}], [{'blue': 1}, {'green': 1}], [{'red': 3}, {'green': 1}, {'blue': 1}], [{'blue': 2}], [{'red': 17}, {'blue': 2}, {'green': 1}], [{'red': 6}, {'green': 1}, {'blue': 2}]]}, {30: [[{'green': 10}, {'red': 4}, {'blue': 4}], [{'red': 5}, {'blue': 6}, {'green': 9}], [{'red': 2}, {'green': 3}, {'blue': 4}], [{'blue': 1}, {'green': 9}, {'red': 1}], [{'red': 1}]]}, {31: [[{'red': 6}, {'green': 3}], [{'blue': 1}, {'green': 3}, {'red': 9}], [{'blue': 2}, {'red': 11}], [{'red': 13}, {'blue': 2}, {'green': 3}], [{'green': 5}, {'blue': 3}]]}, {32: [[{'red': 2}, {'blue': 1}, {'green': 1}], [{'green': 3}, {'blue': 1}], [{'red': 1}, {'green': 6}], [{'red': 3}, {'green': 3}], [{'blue': 1}], [{'green': 12}, {'red': 3}, {'blue': 1}]]}, {33: [[{'blue': 17}, {'green': 14}, {'red': 7}], [{'red': 5}, {'green': 9}, {'blue': 16}], [{'green': 8}, {'blue': 3}, {'red': 3}], [{'green': 10}, {'blue': 12}, {'red': 1}]]}, {34: [[{'red': 2}, {'green': 1}, {'blue': 9}], [{'blue': 14}, {'green': 2}, {'red': 9}], [{'blue': 10}, {'green': 2}, {'red': 16}], [{'green': 2}, {'red': 5}, {'blue': 14}], [{'blue': 5}, {'red': 12}, {'green': 2}], [{'blue': 8}, {'red': 15}, {'green': 3}]]}, {35: [[{'green': 14}, {'red': 4}], [{'green': 16}, {'red': 4}], [{'red': 4}, {'blue': 3}, {'green': 3}], [{'green': 5}, {'red': 4}, {'blue': 4}], [{'red': 3}, {'blue': 1}, {'green': 8}]]}, {36: [[{'blue': 1}, {'red': 8}, {'green': 4}], [{'green': 2}, {'blue': 15}, {'red': 4}], [{'blue': 13}, {'red': 5}, {'green': 8}]]}, {37: [[{'red': 2}, {'green': 8}, {'blue': 7}], [{'green': 9}, {'red': 20}, {'blue': 3}], [{'blue': 3}, {'green': 1}, {'red': 2}], [{'red': 9}, {'blue': 1}, {'green': 4}], [{'green': 6}, {'blue': 2}, {'red': 20}]]}, {38: [[{'red': 8}, {'blue': 2}, {'green': 2}], [{'green': 7}, {'red': 4}], [{'red': 4}, {'green': 10}, {'blue': 2}]]}, {39: [[{'green': 9}, {'red': 11}, {'blue': 6}], [{'blue': 6}, {'green': 2}, {'red': 19}], [{'red': 2}, {'blue': 3}, {'green': 2}], [{'green': 4}, {'blue': 2}, {'red': 13}], [{'red': 19}, {'green': 7}, {'blue': 1}]]}, {40: [[{'blue': 7}, {'green': 2}, {'red': 11}], [{'red': 19}, {'green': 4}, {'blue': 2}], [{'green': 1}, {'red': 10}, {'blue': 5}], [{'red': 2}, {'green': 1}, {'blue': 2}]]}, {41: [[{'red': 1}, {'blue': 1}, {'green': 13}], [{'green': 13}, {'red': 11}, {'blue': 5}], [{'green': 19}, {'blue': 3}], [{'green': 18}, {'red': 1}]]}, {42: [[{'blue': 1}, {'green': 2}, {'red': 7}], [{'green': 13}, {'red': 5}, {'blue': 7}], [{'red': 6}, {'green': 13}, {'blue': 9}], [{'red': 12}, {'blue': 17}, {'green': 13}], [{'red': 9}, {'blue': 16}, {'green': 5}], [{'red': 11}, {'green': 4}]]}, {43: [[{'blue': 3}, {'red': 4}], [{'red': 6}, {'blue': 5}], [{'blue': 7}, {'green': 1}, {'red': 5}], [{'blue': 3}, {'red': 10}]]}, {44: [[{'green': 10}, {'blue': 10}], [{'blue': 2}, {'red': 10}, {'green': 10}], [{'green': 2}, {'red': 5}, {'blue': 4}], [{'red': 8}, {'green': 2}, {'blue': 2}], [{'red': 14}, {'blue': 3}, {'green': 10}], [{'red': 14}, {'green': 5}, {'blue': 3}]]}, {45: [[{'green': 9}, {'red': 2}, {'blue': 2}], [{'blue': 2}, {'red': 2}, {'green': 7}], [{'blue': 9}, {'green': 6}]]}, {46: [[{'blue': 2}, {'green': 1}], [{'blue': 1}, {'red': 1}, {'green': 1}], [{'blue': 1}], [{'blue': 1}, {'green': 1}]]}, {47: [[{'green': 4}, {'red': 10}, {'blue': 14}], [{'red': 19}, {'blue': 3}, {'green': 1}], [{'green': 4}, {'blue': 14}, {'red': 15}], [{'blue': 9}, {'red': 17}], [{'green': 3}, {'blue': 12}, {'red': 7}], [{'red': 1}, {'blue': 11}, {'green': 4}]]}, {48: [[{'red': 9}, {'green': 2}, {'blue': 1}], [{'red': 7}, {'blue': 3}], [{'red': 8}, {'green': 1}], [{'blue': 1}, {'red': 3}]]}, {49: [[{'red': 2}, {'green': 3}, {'blue': 13}], [{'red': 7}, {'blue': 15}, {'green': 3}], [{'blue': 15}, {'red': 7}], [{'blue': 11}, {'red': 5}, {'green': 3}]]}, {50: [[{'red': 4}, {'green': 4}, {'blue': 2}], [{'green': 2}, {'red': 3}], [{'green': 2}, {'red': 3}, {'blue': 11}], [{'green': 3}, {'red': 2}]]}, {51: [[{'blue': 4}, {'green': 17}], [{'blue': 3}, {'green': 17}, {'red': 1}], [{'green': 6}, {'blue': 8}]]}, {52: [[{'blue': 14}, {'red': 3}], [{'green': 11}, {'red': 6}, {'blue': 9}], [{'blue': 6}, {'red': 10}], [{'red': 1}, {'green': 1}, {'blue': 4}], [{'blue': 9}, {'green': 6}], [{'red': 3}, {'blue': 2}, {'green': 8}]]}, {53: [[{'blue': 1}, {'red': 9}, {'green': 9}], [{'green': 11}, {'red': 1}, {'blue': 7}], [{'green': 11}, {'red': 9}, {'blue': 7}], [{'green': 12}, {'red': 15}, {'blue': 7}], [{'blue': 7}, {'red': 12}, {'green': 1}], [{'blue': 6}, {'green': 2}, {'red': 4}]]}, {54: [[{'blue': 7}, {'red': 2}, {'green': 4}], [{'red': 2}, {'blue': 16}, {'green': 8}], [{'blue': 15}, {'green': 7}], [{'blue': 5}, {'red': 3}, {'green': 2}], [{'green': 9}, {'blue': 15}], [{'green': 1}, {'blue': 14}]]}, {55: [[{'red': 5}, {'blue': 10}, {'green': 2}], [{'blue': 5}, {'red': 5}, {'green': 2}], [{'red': 6}, {'green': 1}], [{'red': 7}, {'blue': 8}, {'green': 1}], [{'green': 1}, {'blue': 13}]]}, {56: [[{'blue': 14}, {'green': 11}, {'red': 3}], [{'blue': 10}, {'green': 7}, {'red': 2}], [{'red': 2}, {'green': 13}, {'blue': 1}]]}, {57: [[{'blue': 10}, {'red': 6}], [{'red': 10}, {'blue': 4}, {'green': 6}], [{'green': 2}, {'blue': 16}], [{'blue': 6}, {'red': 11}, {'green': 7}]]}, {58: [[{'red': 3}, {'blue': 2}], [{'green': 9}, {'blue': 12}], [{'red': 1}, {'green': 1}, {'blue': 5}], [{'blue': 1}, {'green': 2}]]}, {59: [[{'red': 6}, {'green': 9}, {'blue': 2}], [{'green': 6}, {'red': 6}, {'blue': 7}], [{'green': 2}, {'blue': 7}, {'red': 9}], [{'green': 1}, {'blue': 10}], [{'green': 1}, {'blue': 3}, {'red': 1}], [{'green': 10}, {'red': 1}, {'blue': 3}]]}, {60: [[{'green': 13}, {'red': 5}, {'blue': 9}], [{'blue': 3}, {'green': 12}, {'red': 9}], [{'blue': 4}, {'green': 17}, {'red': 9}], [{'green': 12}, {'red': 2}], [{'red': 6}, {'green': 3}, {'blue': 8}], [{'green': 13}, {'red': 12}]]}, {61: [[{'green': 4}, {'red': 15}], [{'green': 5}, {'red': 15}], [{'blue': 1}, {'green': 7}, {'red': 12}], [{'green': 8}, {'blue': 3}, {'red': 4}], [{'green': 11}, {'red': 11}, {'blue': 3}], [{'red': 7}, {'green': 12}, {'blue': 2}]]}, {62: [[{'red': 3}], [{'green': 2}, {'red': 8}], [{'red': 10}, {'blue': 8}], [{'blue': 1}, {'red': 4}, {'green': 2}], [{'green': 2}, {'red': 13}], [{'red': 6}, {'blue': 9}]]}, {63: [[{'green': 4}, {'blue': 12}, {'red': 5}], [{'blue': 5}, {'green': 5}, {'red': 5}], [{'blue': 3}, {'green': 17}], [{'red': 1}, {'blue': 1}, {'green': 17}], [{'green': 10}, {'red': 4}, {'blue': 15}], [{'blue': 15}, {'green': 4}]]}, {64: [[{'red': 12}, {'blue': 9}, {'green': 4}], [{'green': 1}, {'red': 1}, {'blue': 8}], [{'green': 10}, {'red': 11}, {'blue': 1}], [{'red': 2}, {'blue': 10}]]}, {65: [[{'red': 1}, {'green': 3}, {'blue': 11}], [{'red': 2}, {'green': 6}, {'blue': 3}], [{'red': 1}, {'green': 7}, {'blue': 1}]]}, {66: [[{'green': 2}, {'red': 2}, {'blue': 4}], [{'red': 19}, {'blue': 11}, {'green': 4}], [{'blue': 6}, {'green': 2}, {'red': 13}], [{'blue': 16}, {'green': 4}]]}, {67: [[{'blue': 1}, {'red': 5}, {'green': 1}], [{'green': 1}, {'red': 1}, {'blue': 1}], [{'green': 2}, {'blue': 1}, {'red': 19}]]}, {68: [[{'green': 3}, {'red': 1}], [{'red': 1}, {'blue': 3}], [{'blue': 3}, {'red': 2}, {'green': 10}], [{'green': 4}]]}, {69: [[{'green': 5}, {'blue': 11}, {'red': 5}], [{'green': 13}, {'red': 19}, {'blue': 8}], [{'red': 19}, {'green': 2}, {'blue': 11}]]}, {70: [[{'blue': 7}, {'green': 9}], [{'red': 1}, {'blue': 11}, {'green': 2}], [{'blue': 6}, {'green': 10}, {'red': 1}]]}, {71: [[{'red': 2}, {'green': 2}, {'blue': 9}], [{'green': 1}, {'blue': 20}, {'red': 1}], [{'blue': 17}, {'green': 3}, {'red': 2}], [{'green': 3}, {'blue': 13}, {'red': 2}], [{'blue': 16}, {'green': 3}], [{'blue': 11}]]}, {72: [[{'red': 6}, {'green': 4}, {'blue': 10}], [{'red': 6}, {'blue': 7}], [{'blue': 1}, {'green': 8}], [{'green': 3}, {'red': 6}, {'blue': 1}]]}, {73: [[{'green': 2}, {'blue': 12}, {'red': 2}], [{'red': 6}, {'blue': 6}, {'green': 3}], [{'red': 8}, {'green': 3}, {'blue': 1}], [{'green': 3}, {'red': 5}, {'blue': 10}]]}, {74: [[{'red': 1}, {'green': 15}], [{'blue': 3}, {'green': 5}, {'red': 6}], [{'red': 7}, {'green': 5}], [{'red': 12}, {'green': 12}]]}, {75: [[{'blue': 14}, {'green': 2}, {'red': 8}], [{'blue': 13}, {'green': 6}, {'red': 4}], [{'green': 4}, {'red': 6}, {'blue': 1}]]}, {76: [[{'red': 12}, {'blue': 5}, {'green': 1}], [{'blue': 6}, {'red': 11}], [{'red': 2}, {'blue': 7}], [{'blue': 6}, {'red': 16}]]}, {77: [[{'red': 7}, {'green': 2}, {'blue': 1}], [{'blue': 6}], [{'red': 3}, {'green': 1}, {'blue': 10}], [{'blue': 5}, {'green': 2}, {'red': 1}]]}, {78: [[{'blue': 9}, {'green': 3}, {'red': 14}], [{'red': 16}, {'blue': 15}], [{'red': 16}, {'green': 9}, {'blue': 10}], [{'red': 2}, {'blue': 8}, {'green': 3}]]}, {79: [[{'green': 7}, {'blue': 5}, {'red': 2}], [{'red': 5}, {'blue': 5}, {'green': 1}], [{'red': 2}, {'blue': 3}, {'green': 10}], [{'green': 5}, {'blue': 1}, {'red': 3}], [{'blue': 5}, {'red': 3}, {'green': 7}]]}, {80: [[{'red': 7}, {'blue': 6}], [{'red': 6}, {'blue': 6}], [{'blue': 7}, {'green': 2}], [{'red': 3}, {'blue': 9}]]}, {81: [[{'green': 8}, {'red': 9}, {'blue': 1}], [{'red': 9}, {'green': 7}], [{'green': 1}, {'red': 5}], [{'green': 2}, {'red': 1}], [{'blue': 1}, {'red': 14}, {'green': 6}], [{'blue': 1}, {'green': 11}, {'red': 6}]]}, {82: [[{'blue': 4}, {'red': 14}, {'green': 1}], [{'red': 2}, {'green': 4}, {'blue': 2}], [{'green': 7}, {'blue': 4}, {'red': 13}], [{'red': 2}, {'green': 1}, {'blue': 6}]]}, {83: [[{'red': 9}, {'blue': 2}, {'green': 2}], [{'green': 6}, {'red': 6}], [{'red': 9}, {'blue': 3}, {'green': 6}]]}, {84: [[{'green': 9}, {'red': 1}, {'blue': 1}], [{'red': 4}, {'green': 15}], [{'green': 7}, {'blue': 1}, {'red': 12}], [{'blue': 1}, {'red': 11}, {'green': 14}], [{'green': 2}, {'red': 11}]]}, {85: [[{'green': 13}], [{'green': 11}], [{'blue': 15}, {'green': 10}], [{'blue': 8}, {'green': 6}], [{'green': 11}, {'red': 1}, {'blue': 3}], [{'green': 13}]]}, {86: [[{'green': 13}, {'blue': 1}, {'red': 4}], [{'green': 1}, {'red': 5}], [{'blue': 1}, {'green': 9}, {'red': 5}]]}, {87: [[{'green': 4}, {'red': 5}, {'blue': 2}], [{'green': 4}], [{'green': 8}, {'blue': 2}, {'red': 1}], [{'blue': 4}, {'green': 8}, {'red': 1}], [{'red': 5}, {'blue': 9}, {'green': 8}], [{'blue': 7}]]}, {88: [[{'green': 5}, {'blue': 1}, {'red': 3}], [{'blue': 2}, {'red': 2}, {'green': 3}], [{'green': 3}], [{'blue': 2}, {'red': 1}, {'green': 6}]]}, {89: [[{'blue': 13}, {'red': 6}, {'green': 15}], [{'green': 5}, {'blue': 14}, {'red': 9}], [{'green': 3}, {'blue': 15}, {'red': 5}], [{'red': 13}, {'green': 13}], [{'red': 18}, {'green': 4}, {'blue': 19}], [{'green': 10}, {'red': 10}, {'blue': 18}]]}, {90: [[{'red': 1}, {'green': 1}], [{'blue': 1}, {'green': 2}, {'red': 1}], [{'red': 5}, {'blue': 2}]]}, {91: [[{'blue': 9}], [{'green': 6}, {'blue': 12}, {'red': 2}], [{'red': 3}, {'green': 1}, {'blue': 8}], [{'green': 7}, {'red': 2}, {'blue': 8}]]}, {92: [[{'red': 15}, {'green': 7}, {'blue': 1}], [{'green': 19}, {'red': 12}, {'blue': 1}], [{'red': 7}, {'green': 16}], [{'green': 8}, {'blue': 1}, {'red': 14}], [{'red': 8}, {'blue': 1}, {'green': 9}]]}, {93: [[{'red': 11}, {'green': 4}], [{'green': 7}, {'red': 8}], [{'blue': 4}, {'green': 6}], [{'red': 8}, {'green': 6}, {'blue': 1}], [{'green': 6}], [{'red': 1}, {'green': 1}, {'blue': 4}]]}, {94: [[{'green': 15}], [{'red': 1}, {'blue': 4}, {'green': 4}], [{'red': 1}, {'blue': 1}], [{'red': 4}, {'green': 1}, {'blue': 5}], [{'green': 18}, {'red': 3}, {'blue': 3}], [{'red': 1}]]}, {95: [[{'blue': 1}, {'green': 3}, {'red': 10}], [{'blue': 1}, {'green': 6}], [{'green': 15}, {'red': 2}, {'blue': 3}], [{'blue': 2}, {'red': 8}, {'green': 11}], [{'green': 13}, {'red': 10}], [{'red': 5}]]}, {96: [[{'green': 8}], [{'blue': 5}, {'red': 2}, {'green': 4}], [{'green': 3}, {'red': 4}]]}, {97: [[{'red': 5}, {'blue': 4}], [{'blue': 1}, {'red': 2}, {'green': 9}], [{'green': 10}, {'red': 3}], [{'green': 4}, {'blue': 3}, {'red': 4}], [{'red': 5}, {'green': 4}, {'blue': 3}]]}, {98: [[{'green': 3}, {'blue': 3}, {'red': 2}], [{'blue': 2}, {'red': 2}, {'green': 1}], [{'green': 3}, {'blue': 5}]]}, {99: [[{'green': 11}, {'red': 4}, {'blue': 12}], [{'red': 9}, {'blue': 4}], [{'green': 20}, {'blue': 6}]]}, {100: [[{'red': 12}, {'green': 9}], [{'red': 12}], [{'red': 9}, {'green': 3}], [{'red': 8}, {'blue': 4}, {'green': 4}], [{'blue': 8}, {'red': 11}, {'green': 2}]]}]\n"
     ]
    }
   ],
   "source": [
    "with open('./assets/2.txt') as f:\n",
    "    contents = f.read()\n",
    "\n",
    "contents = contents.split(\"\\n\")\n",
    "\n",
    "for i in range(len(contents)):\n",
    "  content_split = contents[i].split(\":\")\n",
    "  games = content_split[1].strip().split(\";\")\n",
    "\n",
    "  for j in range(len(games)):\n",
    "    games[j] = games[j].strip().split(\",\")\n",
    "\n",
    "    for k in range(len(games[j])):\n",
    "      games[j][k] = games[j][k].strip().split(\" \")\n",
    "      games[j][k] = {\n",
    "        games[j][k][1]: int(games[j][k][0])\n",
    "      }\n",
    "  \n",
    "  contents[i] = {\n",
    "    i+1: games\n",
    "  }\n",
    "\n",
    "print(contents)\n"
   ]
  },
  {
   "cell_type": "code",
   "execution_count": 36,
   "metadata": {},
   "outputs": [
    {
     "name": "stdout",
     "output_type": "stream",
     "text": [
      "2541\n"
     ]
    }
   ],
   "source": [
    "# PART 1\n",
    "\n",
    "\n",
    "max_capacity = {\n",
    "  'red': 12,\n",
    "  'green': 13,\n",
    "  'blue': 14,\n",
    "}\n",
    "\n",
    "# Determine which games would have been possible if the bag had been loaded with only 12 red cubes, 13 green cubes, and 14 blue cubes. What is the sum of the IDs of those games?\n",
    "\n",
    "possible_games = []\n",
    "\n",
    "for game in contents:\n",
    "  for key_1, value_1 in game.items():\n",
    "    possible = True\n",
    "    for i in range(len(value_1)):\n",
    "      for j in range(len(value_1[i])):\n",
    "        for key_2, value_2 in value_1[i][j].items():\n",
    "          if value_2 > max_capacity[key_2]:\n",
    "            possible = False\n",
    "    if possible:\n",
    "      possible_games.append(key_1)\n",
    "\n",
    "print(sum(possible_games))"
   ]
  },
  {
   "cell_type": "code",
   "execution_count": 43,
   "metadata": {},
   "outputs": [
    {
     "name": "stdout",
     "output_type": "stream",
     "text": [
      "66016\n"
     ]
    }
   ],
   "source": [
    "# PART 2\n",
    "\n",
    "# As you continue your walk, the Elf poses a second question: in each game you played, what is the fewest number of cubes of each color that could have been in the bag to make the game possible?\n",
    "\n",
    "# # Example: Game 1: 3 blue, 4 red; 1 red, 2 green, 6 blue; 2 green\n",
    "# Game 2: 1 blue, 2 green; 3 green, 4 blue, 1 red; 1 green, 1 blue\n",
    "# Game 3: 8 green, 6 blue, 20 red; 5 blue, 4 red, 13 green; 5 green, 1 red\n",
    "# Game 4: 1 green, 3 red, 6 blue; 3 green, 6 red; 3 green, 15 blue, 14 red\n",
    "# Game 5: 6 red, 1 blue, 3 green; 2 blue, 1 red, 2 green\n",
    "\n",
    "# In game 1, the game could have been played with as few as 4 red, 2 green, and 6 blue cubes. If any color had even one fewer cube, the game would have been impossible.\n",
    "# Game 2 could have been played with a minimum of 1 red, 3 green, and 4 blue cubes.\n",
    "# Game 3 must have been played with at least 20 red, 13 green, and 6 blue cubes.\n",
    "# Game 4 required at least 14 red, 3 green, and 15 blue cubes.\n",
    "# Game 5 needed no fewer than 6 red, 3 green, and 2 blue cubes in the bag.\n",
    "\n",
    "powers = []\n",
    "\n",
    "for game in contents:\n",
    "  for key_1, value_1 in game.items():\n",
    "    power = 1\n",
    "    min_capacity = {\n",
    "      'red': 0,\n",
    "      'green': 0,\n",
    "      'blue': 0,\n",
    "    }\n",
    "    for i in range(len(value_1)):\n",
    "      cubes = value_1[i]\n",
    "      for j in range(len(cubes)):\n",
    "        for key_2, value_2 in cubes[j].items():\n",
    "          if value_2 > min_capacity[key_2]:\n",
    "            min_capacity[key_2] = value_2\n",
    "    for key_3, value_3 in min_capacity.items():\n",
    "      power *= value_3\n",
    "    powers.append(power)\n",
    "\n",
    "print(sum(powers))\n"
   ]
  }
 ],
 "metadata": {
  "kernelspec": {
   "display_name": "Python 3",
   "language": "python",
   "name": "python3"
  },
  "language_info": {
   "codemirror_mode": {
    "name": "ipython",
    "version": 3
   },
   "file_extension": ".py",
   "mimetype": "text/x-python",
   "name": "python",
   "nbconvert_exporter": "python",
   "pygments_lexer": "ipython3",
   "version": "3.10.11"
  }
 },
 "nbformat": 4,
 "nbformat_minor": 2
}
