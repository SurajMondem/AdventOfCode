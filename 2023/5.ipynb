{
 "cells": [
  {
   "cell_type": "code",
   "execution_count": 4,
   "metadata": {},
   "outputs": [
    {
     "name": "stdout",
     "output_type": "stream",
     "text": [
      "261668924\n"
     ]
    }
   ],
   "source": [
    "with open('./assets/5.txt') as f:\n",
    "    contents = f.read()\n",
    "\n",
    "contents = contents.split(\"\\n\\n\")\n",
    "\n",
    "seed, *others = contents\n",
    "\n",
    "seed = [int(x) for x in seed.split(\":\")[1].split()]\n",
    "\n",
    "def process(x, o):\n",
    "    for line in o:\n",
    "        dest, sour, ran = [int(x) for x in line.split()]\n",
    "        if sour<=x<sour+ran:\n",
    "            return dest+(x-sour)\n",
    "    return x\n",
    "\n",
    "S = []\n",
    "for s in seed:\n",
    "    s = int(s)\n",
    "    for o in others:\n",
    "        O = o.split(\"\\n\")\n",
    "        s = process(s, O[1:])\n",
    "    S.append(s)\n",
    "print(min(S))\n"
   ]
  },
  {
   "cell_type": "code",
   "execution_count": 5,
   "metadata": {},
   "outputs": [
    {
     "name": "stdout",
     "output_type": "stream",
     "text": [
      "24261545\n"
     ]
    }
   ],
   "source": [
    "class Function:\n",
    "  def __init__(self, S):\n",
    "    lines = S.split('\\n')[1:] # throw away name\n",
    "    # dst src sz\n",
    "    self.tuples: list[tuple[int,int,int]] = [[int(x) for x in line.split()] for line in lines]\n",
    "    #print(self.tuples)\n",
    "  def apply_one(self, x: int) -> int:\n",
    "    for (dst, src, sz) in self.tuples:\n",
    "      if src<=x<src+sz:\n",
    "        return x+dst-src\n",
    "    return x\n",
    "\n",
    "  # list of [start, end) ranges\n",
    "  def apply_range(self, R):\n",
    "    A = []\n",
    "    for (dest, src, sz) in self.tuples:\n",
    "      src_end = src+sz\n",
    "      NR = []\n",
    "      while R:\n",
    "        # [st                                     ed)\n",
    "        #          [src       src_end]\n",
    "        # [BEFORE ][INTER            ][AFTER        )\n",
    "        (st,ed) = R.pop()\n",
    "        # (src,sz) might cut (st,ed)\n",
    "        before = (st,min(ed,src))\n",
    "        inter = (max(st, src), min(src_end, ed))\n",
    "        after = (max(src_end, st), ed)\n",
    "        if before[1]>before[0]:\n",
    "          NR.append(before)\n",
    "        if inter[1]>inter[0]:\n",
    "          A.append((inter[0]-src+dest, inter[1]-src+dest))\n",
    "        if after[1]>after[0]:\n",
    "          NR.append(after)\n",
    "      R = NR\n",
    "    return A+R\n",
    "\n",
    "\n",
    "Fs = [Function(s) for s in others]\n",
    "\n",
    "P2 = []\n",
    "pairs = list(zip(seed[::2], seed[1::2]))\n",
    "for st, sz in pairs:\n",
    "  R = [(st, st+sz)]\n",
    "  for f in Fs:\n",
    "    R = f.apply_range(R)\n",
    "\n",
    "  P2.append(min(R)[0])\n",
    "\n",
    "print(min(P2))"
   ]
  }
 ],
 "metadata": {
  "kernelspec": {
   "display_name": "Python 3",
   "language": "python",
   "name": "python3"
  },
  "language_info": {
   "codemirror_mode": {
    "name": "ipython",
    "version": 3
   },
   "file_extension": ".py",
   "mimetype": "text/x-python",
   "name": "python",
   "nbconvert_exporter": "python",
   "pygments_lexer": "ipython3",
   "version": "3.10.11"
  }
 },
 "nbformat": 4,
 "nbformat_minor": 2
}
